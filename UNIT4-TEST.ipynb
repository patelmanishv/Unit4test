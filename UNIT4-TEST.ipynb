{
 "cells": [
  {
   "cell_type": "markdown",
   "id": "86a0a780",
   "metadata": {},
   "source": [
    "<center><h1> DIV A5/A9 - UNIT 4 QUIZ AND PROGRAMS TEST </h1></center>\n",
    "<center><h4> Prof. Manish Patel</h4> </center>\n",
    "<hr style = \"border-bottom: 3px solid; color: maroon\";>\n"
   ]
  },
  {
   "cell_type": "markdown",
   "id": "521ade7c",
   "metadata": {},
   "source": [
    "## 1. Write a TCP Server Program - 4 Marks"
   ]
  },
  {
   "cell_type": "code",
   "execution_count": null,
   "id": "47b2cea8",
   "metadata": {},
   "outputs": [],
   "source": [
    "##  Write code below 👇 - ##\n"
   ]
  },
  {
   "cell_type": "markdown",
   "id": "fe50cf44",
   "metadata": {},
   "source": [
    "## 2. Write a Python program to build a UDP localhost host server that accepts a number from clients and returns the cube of that number to the client. - 4 Marks"
   ]
  },
  {
   "cell_type": "code",
   "execution_count": null,
   "id": "89177678",
   "metadata": {},
   "outputs": [],
   "source": [
    "##  Write code below 👇 - ##\n"
   ]
  },
  {
   "cell_type": "markdown",
   "id": "6cddfddf",
   "metadata": {},
   "source": [
    "## 3. Write an HTTP Server Program - 4 Marks"
   ]
  },
  {
   "cell_type": "code",
   "execution_count": null,
   "id": "892187c8",
   "metadata": {},
   "outputs": [],
   "source": [
    "##  Write code below 👇 - ##\n"
   ]
  },
  {
   "cell_type": "markdown",
   "id": "c9d9b5fe",
   "metadata": {},
   "source": [
    "## 4. Write a Program to create web browser using socket module - 4 Marks"
   ]
  },
  {
   "cell_type": "code",
   "execution_count": null,
   "id": "aee45538",
   "metadata": {},
   "outputs": [],
   "source": [
    "##  Write code below 👇 - ##\n"
   ]
  },
  {
   "cell_type": "markdown",
   "id": "48f07ac3",
   "metadata": {},
   "source": [
    "## 5. Write a Program to fetch air pollution data of Ahmedabad using API - 4 Marks"
   ]
  },
  {
   "cell_type": "code",
   "execution_count": null,
   "id": "596d23c1",
   "metadata": {},
   "outputs": [],
   "source": [
    "##  Write code below 👇 - ##\n"
   ]
  },
  {
   "cell_type": "markdown",
   "id": "de97acc5",
   "metadata": {},
   "source": [
    "## 6. Write a Python program to retrieve all the paragraph tags from a given HTML document. (3 marks)\n",
    "html_doc =\n",
    "```html\n",
    "<html> <head>\n",
    "<meta hp-equiv=\"Content-Type\" content=\"text/html;\n",
    "charset=iso-8859-1\">\n",
    "<title>An example of HTML page</title> </head>\n",
    "<body>\n",
    "<h2>This is an example HTML page</h2>\n",
    "<p>\n",
    "Lorem ipsum dolor sit amet, consectetur adipiscing elit. Nunc at nisi velit, aliquet iaculis est. Curabitur portor nisi\n",
    "vel lacus euismod egestas. In hac habitasse platea dictumst. In sagis magna eu odio interdum mollis. Phasellus\n",
    "sagis pulvinar facilisis. Donec vel odio volutpat tortor volutpat commodo. Donec vehicula vulputate sem, vel iaculis\n",
    "urna molese eget. Sed pellentesque adipiscing tortor, at condimentum elit elementum sed. Mauris dignissim\n",
    "elementum nunc, non elementum felis condimentum eu. In in turpis quis erat imperdiet vulputate. Pellentesque\n",
    "mauris turpis, dignissim sed iaculis eu, euismod eget ipsum. Vivamus mollis adipiscing viverra. Morbi at sem eget nisl\n",
    "euismod porta.</p>\n",
    "<p><a href=\"hps://www.w3resource.com/html/HTML-tutorials.php\">Learn HTML from\n",
    "w3resource.com</a></p>\n",
    "<p><a href=\"hps://www.w3resource.com/css/CSS-tutorials.php\">Learn CSS from\n",
    "w3resource.com</a></p>\n",
    "</body>\n",
    "</html>\n",
    "```"
   ]
  },
  {
   "cell_type": "code",
   "execution_count": null,
   "id": "0e875a18",
   "metadata": {},
   "outputs": [],
   "source": [
    "##  Write code below 👇 - ##\n"
   ]
  },
  {
   "cell_type": "markdown",
   "id": "129e3f2b",
   "metadata": {},
   "source": [
    "## 7. Write a Python program to find the length of the text of the first h2 tag of a given html document \n",
    "html_doc  - \n",
    "```html\n",
    "<html> <head> <meta hp-equiv=\"Content-Type\" content=\"text/html; charset=iso-8859-1\">\n",
    "<title>An example of HTML page</tle> </head>\n",
    "<body> <h2>This is an example HTML page</h2> <p> Lorem ipsum dolor sit amet, consectetur adipiscing elit. Nunc\n",
    "at nisi velit, aliquet iaculis est. Curabitur portor nisi vel lacus euismod egestas. In hac habitasse platea dictumst. In\n",
    "sagis magna eu odio interdum mollis. Phasellus sagis pulvinar facilisis. Donec vel odio volutpat tortor volutpat\n",
    "commodo. Donec vehicula vulputate sem, vel iaculis urna molese eget. Sed pellentesque adipiscing tortor, at\n",
    "condimentum elit elementum sed. Mauris dignissim\n",
    "elementum nunc, non elementum felis condimentum eu. In in turpis quis erat imperdiet vulputate. Pellentesque\n",
    "mauris turpis, dignissim sed iaculis eu, euismod eget ipsum. Vivamus mollis adipiscing viverra. Morbi at sem eget nisl\n",
    "euismod porta.</p>\n",
    "<p><a href=\"hps://www.w3resource.com/html/HTML-tutorials.php\">Learn HTML from\n",
    "w3resource.com</a></p>\n",
    "<p><a href=\"hps://www.w3resource.com/css/CSS-tutorials.php\">Learn CSS from\n",
    "w3resource.com</a></p>\n",
    "</body>\n",
    "</html>\n",
    "```"
   ]
  },
  {
   "cell_type": "code",
   "execution_count": null,
   "id": "90aefc59",
   "metadata": {},
   "outputs": [],
   "source": [
    "##  Write code below 👇 - ##\n"
   ]
  }
 ],
 "metadata": {
  "kernelspec": {
   "display_name": "Python 3 (ipykernel)",
   "language": "python",
   "name": "python3"
  },
  "language_info": {
   "codemirror_mode": {
    "name": "ipython",
    "version": 3
   },
   "file_extension": ".py",
   "mimetype": "text/x-python",
   "name": "python",
   "nbconvert_exporter": "python",
   "pygments_lexer": "ipython3",
   "version": "3.10.9"
  }
 },
 "nbformat": 4,
 "nbformat_minor": 5
}
